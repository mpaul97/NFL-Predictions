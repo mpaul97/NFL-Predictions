{
 "cells": [
  {
   "cell_type": "code",
   "execution_count": 1,
   "metadata": {},
   "outputs": [],
   "source": [
    "import pandas as pd\n",
    "import numpy as np\n",
    "import os\n",
    "import datetime\n",
    "import random\n",
    "\n",
    "import tensorflow as tf\n",
    "import tensorflow_hub as hub\n",
    "from tensorflow import keras\n",
    "from tensorflow.keras import layers, Sequential\n",
    "from tensorflow.keras.regularizers import l2\n",
    "from tensorflow.keras.callbacks import EarlyStopping\n",
    "\n",
    "from sklearn.preprocessing import StandardScaler, OneHotEncoder\n",
    "from sklearn.model_selection import train_test_split\n",
    "from sklearn.linear_model import LogisticRegression\n",
    "from sklearn.ensemble import RandomForestClassifier\n",
    "\n",
    "DATA_DIR = \"data/\"\n",
    "LABELS_DIR = DATA_DIR + \"labels/\""
   ]
  },
  {
   "cell_type": "code",
   "execution_count": 2,
   "metadata": {},
   "outputs": [],
   "source": [
    "# CNN\n",
    "def getModel_class(X_train, y_train):\n",
    "    final_dense_val = y_train.shape[1]\n",
    "    # shape\n",
    "    input_shape = (X_train.shape[1],)\n",
    "    model = Sequential([\n",
    "        layers.Input(shape=input_shape),\n",
    "        layers.Dense(128, activation='relu', kernel_regularizer=l2(0.01)),\n",
    "        layers.Dropout(0.4),\n",
    "        layers.Dense(64, activation='relu', kernel_regularizer=l2(0.01)),\n",
    "        layers.Dropout(0.4),\n",
    "        layers.Dense(final_dense_val, activation='sigmoid')\n",
    "    ])\n",
    "    early_stopping = EarlyStopping(monitor='loss', patience=10, restore_best_weights=True)\n",
    "    model.compile(\n",
    "        optimizer='adam', \n",
    "        loss='categorical_crossentropy', \n",
    "        metrics=['accuracy']\n",
    "    )\n",
    "    tf.function(experimental_relax_shapes=True)\n",
    "    model.fit(\n",
    "        X_train,\n",
    "        y_train,\n",
    "        verbose=0,\n",
    "        epochs=100,\n",
    "        validation_split=0.2,\n",
    "        batch_size=8,\n",
    "        callbacks=[early_stopping]\n",
    "    )\n",
    "    return model"
   ]
  },
  {
   "cell_type": "code",
   "execution_count": 3,
   "metadata": {},
   "outputs": [],
   "source": [
    "# Load the Universal Sentence Encoder model\n",
    "model_url = \"https://tfhub.dev/google/universal-sentence-encoder/4\"\n",
    "embed = hub.load(model_url)"
   ]
  },
  {
   "cell_type": "code",
   "execution_count": 4,
   "metadata": {},
   "outputs": [],
   "source": [
    "# single primary key\n",
    "def addPrimaryKey(df: pd.DataFrame):\n",
    "    df['primary_key'] = df.apply(lambda x: '-'.join([x['key'], str(x['num'])]), axis=1)\n",
    "    return df\n",
    "\n",
    "# load frame\n",
    "df = pd.read_csv(\"%s.csv\" % (DATA_DIR + \"allTables\"))"
   ]
  },
  {
   "cell_type": "code",
   "execution_count": 23,
   "metadata": {},
   "outputs": [],
   "source": [
    "# load/encode labels\n",
    "labelName = \"isExtraPoint\"\n",
    "labels = pd.read_csv(\"%s.csv\" % (LABELS_DIR + labelName))\n",
    "labels: pd.DataFrame = addPrimaryKey(labels)\n",
    "\n",
    "X = embed(list(labels['detail'])).numpy()\n",
    "y = labels[labelName]"
   ]
  },
  {
   "cell_type": "code",
   "execution_count": 24,
   "metadata": {},
   "outputs": [
    {
     "name": "stdout",
     "output_type": "stream",
     "text": [
      "Accuracy: 1.0\n"
     ]
    }
   ],
   "source": [
    "# build model\n",
    "X_train, X_test, y_train, y_test = train_test_split(X, y, test_size=0.2, random_state=42)\n",
    "model = RandomForestClassifier(n_jobs=-1)\n",
    "model.fit(X_train, y_train)\n",
    "acc = model.score(X_test, y_test)\n",
    "print(f\"Accuracy: {acc}\")"
   ]
  },
  {
   "cell_type": "code",
   "execution_count": 25,
   "metadata": {},
   "outputs": [
    {
     "name": "stdout",
     "output_type": "stream",
     "text": [
      "2/2 [==============================] - 0s 3ms/step - loss: 0.0119 - accuracy: 1.0000\n",
      "Accuracy: 1.0\n"
     ]
    }
   ],
   "source": [
    "# tf predict\n",
    "X_train, X_test, y_train, y_test = train_test_split(X, y, test_size=0.2, random_state=42)\n",
    "\n",
    "encoder = OneHotEncoder()\n",
    "encoder.fit((y.values).reshape(-1, 1))\n",
    "y_train = (encoder.transform((y_train.values).reshape(-1, 1))).toarray()\n",
    "y_test = (encoder.transform((y_test.values).reshape(-1, 1))).toarray()\n",
    "\n",
    "# normalize\n",
    "normalizer = layers.Normalization(input_shape=[X_train.shape[1], ], axis=-1)\n",
    "normalizer.adapt(np.array(X_train))\n",
    "normal_X_train = normalizer(X_train).numpy()\n",
    "normal_X_test = normalizer(X_test).numpy()\n",
    "\n",
    "tf_model: Sequential = getModel_class(normal_X_train, y_train)\n",
    "score = tf_model.evaluate(normal_X_test, y_test)\n",
    "print(f\"Accuracy: {score[1]}\")"
   ]
  },
  {
   "cell_type": "code",
   "execution_count": 26,
   "metadata": {},
   "outputs": [],
   "source": [
    "# test\n",
    "test_key = '202309240gnb'\n",
    "df = df.loc[df['key']==test_key]\n",
    "df.reset_index(drop=True, inplace=True)\n",
    "# preds = model.predict(embed(list(df['detail'])).numpy())\n",
    "tf_preds = tf_model.predict(normalizer(embed(list(df['detail'])).numpy()).numpy())\n",
    "tf_preds = np.nan_to_num(tf_preds)\n",
    "tf_preds = encoder.inverse_transform(tf_preds).flatten()\n",
    "tf_preds = tf_preds.flatten()\n",
    "df[labelName] = tf_preds\n",
    "df[[labelName, 'detail']].to_csv(\"%s.csv\" % \"temp\", index=False)"
   ]
  },
  {
   "cell_type": "code",
   "execution_count": 27,
   "metadata": {},
   "outputs": [
    {
     "name": "stdout",
     "output_type": "stream",
     "text": [
      "[0]\n",
      "[0]\n"
     ]
    }
   ],
   "source": [
    "# test = ['Jordan Love pass complete deep left to Romeo Doubs for 30 yards. Penalty on Tyrann Mathieu: Illegal Contact, 5 yards (declined)']\n",
    "test = ['Jordan Love sacked by Alontae Taylor for -14 yards']\n",
    "print(model.predict(embed(test).numpy()))\n",
    "\n",
    "tf_preds = tf_model.predict(normalizer(embed(test).numpy()).numpy())\n",
    "tf_preds = np.nan_to_num(tf_preds)\n",
    "tf_preds = encoder.inverse_transform(tf_preds).flatten()\n",
    "tf_preds = tf_preds.flatten()\n",
    "print(tf_preds)"
   ]
  },
  {
   "cell_type": "code",
   "execution_count": 28,
   "metadata": {},
   "outputs": [
    {
     "name": "stdout",
     "output_type": "stream",
     "text": [
      "3\n",
      "78\n"
     ]
    }
   ],
   "source": [
    "# check pass and run attempts\n",
    "cd = pd.read_csv(\"%s.csv\" % \"../data/gameData\")\n",
    "cd = cd.loc[cd['key']==test_key]\n",
    "\n",
    "print(sum(df[labelName]))\n",
    "print(sum([cd['home_pass_attempts'].values[0], cd['away_pass_attempts'].values[0]]))"
   ]
  }
 ],
 "metadata": {
  "kernelspec": {
   "display_name": "Python 3",
   "language": "python",
   "name": "python3"
  },
  "language_info": {
   "codemirror_mode": {
    "name": "ipython",
    "version": 3
   },
   "file_extension": ".py",
   "mimetype": "text/x-python",
   "name": "python",
   "nbconvert_exporter": "python",
   "pygments_lexer": "ipython3",
   "version": "3.9.2"
  },
  "orig_nbformat": 4
 },
 "nbformat": 4,
 "nbformat_minor": 2
}
