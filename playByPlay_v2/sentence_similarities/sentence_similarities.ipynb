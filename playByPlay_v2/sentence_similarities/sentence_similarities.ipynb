{
 "cells": [
  {
   "cell_type": "code",
   "execution_count": 5,
   "metadata": {},
   "outputs": [],
   "source": [
    "from sentence_transformers import SentenceTransformer, util\n",
    "from sklearn.cluster import KMeans\n",
    "import pandas as pd\n",
    "import numpy as np\n",
    "import os\n",
    "import json\n",
    "import random"
   ]
  },
  {
   "cell_type": "code",
   "execution_count": 6,
   "metadata": {},
   "outputs": [],
   "source": [
    "model = SentenceTransformer('sentence-transformers/all-MiniLM-L6-v2')"
   ]
  },
  {
   "cell_type": "code",
   "execution_count": 10,
   "metadata": {},
   "outputs": [
    {
     "name": "stdout",
     "output_type": "stream",
     "text": [
      "Melvin Gordon left guard for no gain (tackle by Mike Pennel)\n",
      "Ryan Tannehill sacked by Jarran Reed for -8 yards. Ryan Tannehill fumbles (forced by Jarran Reed), recovered by Ryan Tannehill at TEN-15 (tackle by Leonard Williams)\n",
      "Marcus Mariota pass complete short left to Rishard Matthews for 20 yards (tackle by Josh Shaw). Penalty on Adam Jones: Illegal Use of Hands (Declined)\n",
      "Corey Grant middle for 57 yards, touchdown\n",
      "Riley Dixon punts 54 yards, returned by Jakeem Grant for 22 yards (tackle by Jamal Carter). Penalty on Neville Hewitt: Offensive Holding, 10 yards\n",
      "Kevin Kolb pass complete short left to Rob Housler for 20 yards (tackle by Larry Foote)\n",
      "Trevor Siemian pass incomplete short middle intended for Tyler Conklin\n",
      "Timeout #1 by New York Giants\n",
      "Sebastian Janikowski kicks extra point good\n",
      "Matt Gay 32 yard field goal good\n"
     ]
    }
   ],
   "source": [
    "def test_clusters():\n",
    "    pbp_names_dir = \"../../pbp_names/data/\"\n",
    "    file = open((pbp_names_dir + \"all_details.txt\"), \"r\")\n",
    "    lines = (file.read()).split(\"\\n\")\n",
    "    lines = random.sample(lines, k=1000)\n",
    "    embeddings = model.encode(lines, convert_to_tensor=True)\n",
    "    num_clusters = 10\n",
    "    kmeans = KMeans(n_clusters=num_clusters, random_state=42)\n",
    "    kmeans.fit(embeddings)\n",
    "    cluster_labels = kmeans.labels_\n",
    "    clusters = {}\n",
    "    for i, label in enumerate(cluster_labels):\n",
    "        if label not in clusters:\n",
    "            clusters[label] = []\n",
    "        clusters[label].append(lines[i])\n",
    "    new_df = pd.DataFrame(columns=['cluster_num', 'line'])\n",
    "    for cluster, lines_in_cluster in clusters.items():\n",
    "        idx = random.randrange(0, len(lines_in_cluster))\n",
    "        print(lines_in_cluster[idx])\n",
    "    #     for line in lines_in_cluster:\n",
    "    #         new_df.loc[len(new_df.index)] = [cluster+1, line]\n",
    "    # new_df.sort_values(by=['cluster_num'], inplace=True)\n",
    "    # new_df.to_csv(\"%s.csv\" % \"data/test_clusters\", index=False)\n",
    "    return\n",
    "\n",
    "test_clusters()"
   ]
  }
 ],
 "metadata": {
  "kernelspec": {
   "display_name": "Python 3",
   "language": "python",
   "name": "python3"
  },
  "language_info": {
   "codemirror_mode": {
    "name": "ipython",
    "version": 3
   },
   "file_extension": ".py",
   "mimetype": "text/x-python",
   "name": "python",
   "nbconvert_exporter": "python",
   "pygments_lexer": "ipython3",
   "version": "3.9.2"
  }
 },
 "nbformat": 4,
 "nbformat_minor": 2
}
