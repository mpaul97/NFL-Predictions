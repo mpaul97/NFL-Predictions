{
 "cells": [
  {
   "cell_type": "code",
   "execution_count": 1,
   "metadata": {},
   "outputs": [],
   "source": [
    "import spacy\n",
    "import json\n",
    "import os\n",
    "\n",
    "from spacy.tokens import DocBin\n",
    "from tqdm import tqdm\n",
    "\n",
    "from spacy.util import filter_spans\n",
    "\n",
    "from spacy import displacy\n",
    "\n",
    "DATA_PATH, MODELS_PATH = \"data/\", \"models/\"\n",
    "\n",
    "nlp = spacy.blank(\"en\")\n",
    "doc_bin = DocBin()"
   ]
  },
  {
   "cell_type": "code",
   "execution_count": 2,
   "metadata": {},
   "outputs": [],
   "source": [
    "with open((DATA_PATH + \"train.json\"), \"r\") as f:\n",
    "    data = json.load(f)"
   ]
  },
  {
   "cell_type": "code",
   "execution_count": 3,
   "metadata": {},
   "outputs": [],
   "source": [
    "for example in data:\n",
    "    line = example['line']\n",
    "    entities = example['entities']\n",
    "    doc = nlp.make_doc(line)\n",
    "    ents = []\n",
    "    for start, end, label in entities:\n",
    "        span = doc.char_span(start, end, label=label, alignment_mode=\"contract\")\n",
    "        if span:\n",
    "            ents.append(span)\n",
    "        else:\n",
    "            print(f\"Skipping entity: {example}, ({start}, {end}, {label})\")\n",
    "    filtered_ents = filter_spans(ents)\n",
    "    doc.ents = filtered_ents\n",
    "    doc_bin.add(doc)\n",
    "    \n",
    "doc_bin.to_disk(MODELS_PATH + \"train.spacy\")"
   ]
  },
  {
   "cell_type": "code",
   "execution_count": 4,
   "metadata": {},
   "outputs": [],
   "source": [
    "# Build config.cfg if it doesn't exist (edit paths after creation)\n",
    "\n",
    "# !python -m spacy init config config.cfg --lang en --pipeline ner --optimize efficiency"
   ]
  },
  {
   "cell_type": "code",
   "execution_count": 5,
   "metadata": {},
   "outputs": [
    {
     "name": "stdout",
     "output_type": "stream",
     "text": [
      "\u001b[38;5;4mℹ Saving to output directory: models\u001b[0m\n",
      "\u001b[38;5;4mℹ Using CPU\u001b[0m\n",
      "\u001b[1m\n",
      "=========================== Initializing pipeline ===========================\u001b[0m\n",
      "\u001b[38;5;2m✔ Initialized pipeline\u001b[0m\n",
      "\u001b[1m\n",
      "============================= Training pipeline =============================\u001b[0m\n",
      "\u001b[38;5;4mℹ Pipeline: ['tok2vec', 'ner']\u001b[0m\n",
      "\u001b[38;5;4mℹ Initial learn rate: 0.001\u001b[0m\n",
      "E    #       LOSS TOK2VEC  LOSS NER  ENTS_F  ENTS_P  ENTS_R  SCORE \n",
      "---  ------  ------------  --------  ------  ------  ------  ------\n",
      "  0       0          0.00     58.09    0.00    0.00    0.00    0.00\n",
      "  0     200        735.47   4241.75   83.21   83.20   83.22    0.83\n",
      "  1     400        591.73   1126.11   95.34   95.33   95.35    0.95\n",
      "  2     600        184.04    533.90   98.24   98.20   98.29    0.98\n",
      "  3     800        171.56    331.40   98.49   98.49   98.49    0.98\n",
      "  5    1000        342.60    373.59   98.80   98.80   98.80    0.99\n",
      "  7    1200        364.76    321.78   99.58   99.58   99.58    1.00\n",
      "  9    1400        255.88    221.44   99.62   99.62   99.62    1.00\n",
      " 12    1600        449.58    258.02   99.71   99.71   99.71    1.00\n",
      " 16    1800        442.81    227.76   99.73   99.73   99.73    1.00\n",
      " 20    2000        183.29    139.45   99.76   99.76   99.76    1.00\n",
      " 25    2200        957.10    336.45   99.76   99.76   99.76    1.00\n",
      " 32    2400        779.83    246.01   99.59   99.49   99.69    1.00\n",
      " 38    2600       1568.38    303.11   99.84   99.84   99.84    1.00\n",
      " 44    2800       1010.10    247.11   99.84   99.84   99.84    1.00\n",
      " 51    3000        559.29    142.54   99.84   99.84   99.84    1.00\n",
      " 57    3200       1698.52    356.72   99.73   99.73   99.73    1.00\n",
      " 64    3400        617.39    164.60   99.84   99.84   99.84    1.00\n",
      " 70    3600        700.26    172.82   99.82   99.82   99.82    1.00\n",
      " 77    3800        885.03    172.41   99.82   99.82   99.82    1.00\n",
      " 83    4000        650.60    154.61   99.87   99.87   99.87    1.00\n",
      " 90    4200        897.97    149.72   99.87   99.87   99.87    1.00\n",
      " 96    4400        820.47    165.17   99.87   99.87   99.87    1.00\n",
      "103    4600        858.42    162.24   99.87   99.87   99.87    1.00\n",
      "109    4800        581.23    150.73   99.91   99.91   99.91    1.00\n",
      "115    5000        356.68     86.38   99.87   99.87   99.87    1.00\n",
      "122    5200        764.59    141.98   99.91   99.91   99.91    1.00\n",
      "128    5400        447.47     91.65   99.91   99.91   99.91    1.00\n",
      "135    5600        804.49    125.11   99.89   99.89   99.89    1.00\n",
      "141    5800        418.59     93.55   99.91   99.91   99.91    1.00\n",
      "148    6000       2310.84    207.70   99.91   99.91   99.91    1.00\n",
      "154    6200        486.01     92.74   99.91   99.91   99.91    1.00\n",
      "161    6400       2631.54    328.76   99.84   99.84   99.84    1.00\n",
      "\u001b[38;5;2m✔ Saved pipeline to output directory\u001b[0m\n",
      "models\\model-last\n"
     ]
    }
   ],
   "source": [
    "!python -m spacy train config.cfg --output ./models --paths.train ./models/train.spacy --paths.dev ./models/train.spacy"
   ]
  },
  {
   "cell_type": "code",
   "execution_count": 6,
   "metadata": {},
   "outputs": [
    {
     "data": {
      "text/html": [
       "<span class=\"tex2jax_ignore\"><div class=\"entities\" style=\"line-height: 2.5; direction: ltr\">\n",
       "<mark class=\"entity\" style=\"background: #b0e0e6; padding: 0.45em 0.6em; margin: 0 0.25em; line-height: 1; border-radius: 0.35em;\">\n",
       "    Trevor Lawrence\n",
       "    <span style=\"font-size: 0.8em; font-weight: bold; line-height: 1; border-radius: 0.35em; vertical-align: middle; margin-left: 0.5rem\">PASSER</span>\n",
       "</mark>\n",
       " pass complete short right to \n",
       "<mark class=\"entity\" style=\"background: #00ff44; padding: 0.45em 0.6em; margin: 0 0.25em; line-height: 1; border-radius: 0.35em;\">\n",
       "    Luke Farrell\n",
       "    <span style=\"font-size: 0.8em; font-weight: bold; line-height: 1; border-radius: 0.35em; vertical-align: middle; margin-left: 0.5rem\">RECEIVER</span>\n",
       "</mark>\n",
       " for no gain (tackle by \n",
       "<mark class=\"entity\" style=\"background: #003366; padding: 0.45em 0.6em; margin: 0 0.25em; line-height: 1; border-radius: 0.35em;\">\n",
       "    Micah Hyde\n",
       "    <span style=\"font-size: 0.8em; font-weight: bold; line-height: 1; border-radius: 0.35em; vertical-align: middle; margin-left: 0.5rem\">TACKLER</span>\n",
       "</mark>\n",
       "). Penalty on \n",
       "<mark class=\"entity\" style=\"background: #ffd700; padding: 0.45em 0.6em; margin: 0 0.25em; line-height: 1; border-radius: 0.35em;\">\n",
       "    Anton Harrison\n",
       "    <span style=\"font-size: 0.8em; font-weight: bold; line-height: 1; border-radius: 0.35em; vertical-align: middle; margin-left: 0.5rem\">PENALIZER</span>\n",
       "</mark>\n",
       ": Ineligible Downfield Pass, 5 yards (accepted) (no play)</div></span>"
      ],
      "text/plain": [
       "<IPython.core.display.HTML object>"
      ]
     },
     "metadata": {},
     "output_type": "display_data"
    },
    {
     "data": {
      "text/html": [
       "<span class=\"tex2jax_ignore\"><div class=\"entities\" style=\"line-height: 2.5; direction: ltr\">\n",
       "<mark class=\"entity\" style=\"background: #ff00ff; padding: 0.45em 0.6em; margin: 0 0.25em; line-height: 1; border-radius: 0.35em;\">\n",
       "    Nick Martin\n",
       "    <span style=\"font-size: 0.8em; font-weight: bold; line-height: 1; border-radius: 0.35em; vertical-align: middle; margin-left: 0.5rem\">FUMBLER</span>\n",
       "</mark>\n",
       " aborted snap, recovered by \n",
       "<mark class=\"entity\" style=\"background: #ff1493; padding: 0.45em 0.6em; margin: 0 0.25em; line-height: 1; border-radius: 0.35em;\">\n",
       "    Deshaun Watson\n",
       "    <span style=\"font-size: 0.8em; font-weight: bold; line-height: 1; border-radius: 0.35em; vertical-align: middle; margin-left: 0.5rem\">FUMBLE_RECOVERER</span>\n",
       "</mark>\n",
       " at LAC-21, touchdown \n",
       "<mark class=\"entity\" style=\"background: #b0e0e6; padding: 0.45em 0.6em; margin: 0 0.25em; line-height: 1; border-radius: 0.35em;\">\n",
       "    Deshaun Watson\n",
       "    <span style=\"font-size: 0.8em; font-weight: bold; line-height: 1; border-radius: 0.35em; vertical-align: middle; margin-left: 0.5rem\">PASSER</span>\n",
       "</mark>\n",
       " pass complete deep right to \n",
       "<mark class=\"entity\" style=\"background: #00ff44; padding: 0.45em 0.6em; margin: 0 0.25em; line-height: 1; border-radius: 0.35em;\">\n",
       "    Darren Fells\n",
       "    <span style=\"font-size: 0.8em; font-weight: bold; line-height: 1; border-radius: 0.35em; vertical-align: middle; margin-left: 0.5rem\">RECEIVER</span>\n",
       "</mark>\n",
       " for 16 yards, touchdown</div></span>"
      ],
      "text/plain": [
       "<IPython.core.display.HTML object>"
      ]
     },
     "metadata": {},
     "output_type": "display_data"
    },
    {
     "data": {
      "text/html": [
       "<span class=\"tex2jax_ignore\"><div class=\"entities\" style=\"line-height: 2.5; direction: ltr\">\n",
       "<mark class=\"entity\" style=\"background: #ff7373; padding: 0.45em 0.6em; margin: 0 0.25em; line-height: 1; border-radius: 0.35em;\">\n",
       "    Marcus Mariota\n",
       "    <span style=\"font-size: 0.8em; font-weight: bold; line-height: 1; border-radius: 0.35em; vertical-align: middle; margin-left: 0.5rem\">RUSHER</span>\n",
       "</mark>\n",
       " left end for 8 yards (tackle by \n",
       "<mark class=\"entity\" style=\"background: #003366; padding: 0.45em 0.6em; margin: 0 0.25em; line-height: 1; border-radius: 0.35em;\">\n",
       "    Adam Jones\n",
       "    <span style=\"font-size: 0.8em; font-weight: bold; line-height: 1; border-radius: 0.35em; vertical-align: middle; margin-left: 0.5rem\">TACKLER</span>\n",
       "</mark>\n",
       "). Penalty on \n",
       "<mark class=\"entity\" style=\"background: #ffd700; padding: 0.45em 0.6em; margin: 0 0.25em; line-height: 1; border-radius: 0.35em;\">\n",
       "    Vontaze Burfict\n",
       "    <span style=\"font-size: 0.8em; font-weight: bold; line-height: 1; border-radius: 0.35em; vertical-align: middle; margin-left: 0.5rem\">PENALIZER</span>\n",
       "</mark>\n",
       ": Disqualification</div></span>"
      ],
      "text/plain": [
       "<IPython.core.display.HTML object>"
      ]
     },
     "metadata": {},
     "output_type": "display_data"
    },
    {
     "data": {
      "text/html": [
       "<span class=\"tex2jax_ignore\"><div class=\"entities\" style=\"line-height: 2.5; direction: ltr\">\n",
       "<mark class=\"entity\" style=\"background: #ff7373; padding: 0.45em 0.6em; margin: 0 0.25em; line-height: 1; border-radius: 0.35em;\">\n",
       "    Kyler Murray\n",
       "    <span style=\"font-size: 0.8em; font-weight: bold; line-height: 1; border-radius: 0.35em; vertical-align: middle; margin-left: 0.5rem\">RUSHER</span>\n",
       "</mark>\n",
       " right end for 16 yards (tackle by \n",
       "<mark class=\"entity\" style=\"background: #003366; padding: 0.45em 0.6em; margin: 0 0.25em; line-height: 1; border-radius: 0.35em;\">\n",
       "    Donovan Wilson\n",
       "    <span style=\"font-size: 0.8em; font-weight: bold; line-height: 1; border-radius: 0.35em; vertical-align: middle; margin-left: 0.5rem\">TACKLER</span>\n",
       "</mark>\n",
       "). Penalty on \n",
       "<mark class=\"entity\" style=\"background: #ffd700; padding: 0.45em 0.6em; margin: 0 0.25em; line-height: 1; border-radius: 0.35em;\">\n",
       "    Tyrone Crawford\n",
       "    <span style=\"font-size: 0.8em; font-weight: bold; line-height: 1; border-radius: 0.35em; vertical-align: middle; margin-left: 0.5rem\">PENALIZER</span>\n",
       "</mark>\n",
       ": Taunting</div></span>"
      ],
      "text/plain": [
       "<IPython.core.display.HTML object>"
      ]
     },
     "metadata": {},
     "output_type": "display_data"
    },
    {
     "data": {
      "text/html": [
       "<span class=\"tex2jax_ignore\"><div class=\"entities\" style=\"line-height: 2.5; direction: ltr\">\n",
       "<mark class=\"entity\" style=\"background: #b0e0e6; padding: 0.45em 0.6em; margin: 0 0.25em; line-height: 1; border-radius: 0.35em;\">\n",
       "    Ben Roethlisberger\n",
       "    <span style=\"font-size: 0.8em; font-weight: bold; line-height: 1; border-radius: 0.35em; vertical-align: middle; margin-left: 0.5rem\">PASSER</span>\n",
       "</mark>\n",
       " kneels for -2 yards</div></span>"
      ],
      "text/plain": [
       "<IPython.core.display.HTML object>"
      ]
     },
     "metadata": {},
     "output_type": "display_data"
    },
    {
     "data": {
      "text/html": [
       "<span class=\"tex2jax_ignore\"><div class=\"entities\" style=\"line-height: 2.5; direction: ltr\">\n",
       "<mark class=\"entity\" style=\"background: #b0e0e6; padding: 0.45em 0.6em; margin: 0 0.25em; line-height: 1; border-radius: 0.35em;\">\n",
       "    Robert Griffin III\n",
       "    <span style=\"font-size: 0.8em; font-weight: bold; line-height: 1; border-radius: 0.35em; vertical-align: middle; margin-left: 0.5rem\">PASSER</span>\n",
       "</mark>\n",
       " pass complete short right to \n",
       "<mark class=\"entity\" style=\"background: #00ff44; padding: 0.45em 0.6em; margin: 0 0.25em; line-height: 1; border-radius: 0.35em;\">\n",
       "    Pierre Garcon\n",
       "    <span style=\"font-size: 0.8em; font-weight: bold; line-height: 1; border-radius: 0.35em; vertical-align: middle; margin-left: 0.5rem\">RECEIVER</span>\n",
       "</mark>\n",
       " for 9 yards (tackle by \n",
       "<mark class=\"entity\" style=\"background: #003366; padding: 0.45em 0.6em; margin: 0 0.25em; line-height: 1; border-radius: 0.35em;\">\n",
       "    Curtis Lofton\n",
       "    <span style=\"font-size: 0.8em; font-weight: bold; line-height: 1; border-radius: 0.35em; vertical-align: middle; margin-left: 0.5rem\">TACKLER</span>\n",
       "</mark>\n",
       " and \n",
       "<mark class=\"entity\" style=\"background: #003366; padding: 0.45em 0.6em; margin: 0 0.25em; line-height: 1; border-radius: 0.35em;\">\n",
       "    Corey White\n",
       "    <span style=\"font-size: 0.8em; font-weight: bold; line-height: 1; border-radius: 0.35em; vertical-align: middle; margin-left: 0.5rem\">TACKLER</span>\n",
       "</mark>\n",
       ")</div></span>"
      ],
      "text/plain": [
       "<IPython.core.display.HTML object>"
      ]
     },
     "metadata": {},
     "output_type": "display_data"
    },
    {
     "data": {
      "text/html": [
       "<span class=\"tex2jax_ignore\"><div class=\"entities\" style=\"line-height: 2.5; direction: ltr\">\n",
       "<mark class=\"entity\" style=\"background: #d3ffce; padding: 0.45em 0.6em; margin: 0 0.25em; line-height: 1; border-radius: 0.35em;\">\n",
       "    Chandler Catanzaro\n",
       "    <span style=\"font-size: 0.8em; font-weight: bold; line-height: 1; border-radius: 0.35em; vertical-align: middle; margin-left: 0.5rem\">KICKER</span>\n",
       "</mark>\n",
       " 39 yard field goal no good, blocked by \n",
       "<mark class=\"entity\" style=\"background: #ffe7a6; padding: 0.45em 0.6em; margin: 0 0.25em; line-height: 1; border-radius: 0.35em;\">\n",
       "    Bobby Wagner\n",
       "    <span style=\"font-size: 0.8em; font-weight: bold; line-height: 1; border-radius: 0.35em; vertical-align: middle; margin-left: 0.5rem\">BLOCKER</span>\n",
       "</mark>\n",
       ", recovered by \n",
       "<mark class=\"entity\" style=\"background: #ff1493; padding: 0.45em 0.6em; margin: 0 0.25em; line-height: 1; border-radius: 0.35em;\">\n",
       "    Bobby Wagner\n",
       "    <span style=\"font-size: 0.8em; font-weight: bold; line-height: 1; border-radius: 0.35em; vertical-align: middle; margin-left: 0.5rem\">FUMBLE_RECOVERER</span>\n",
       "</mark>\n",
       "</div></span>"
      ],
      "text/plain": [
       "<IPython.core.display.HTML object>"
      ]
     },
     "metadata": {},
     "output_type": "display_data"
    },
    {
     "data": {
      "text/html": [
       "<span class=\"tex2jax_ignore\"><div class=\"entities\" style=\"line-height: 2.5; direction: ltr\">\n",
       "<mark class=\"entity\" style=\"background: #ff7373; padding: 0.45em 0.6em; margin: 0 0.25em; line-height: 1; border-radius: 0.35em;\">\n",
       "    Clyde Edwards-Helaire\n",
       "    <span style=\"font-size: 0.8em; font-weight: bold; line-height: 1; border-radius: 0.35em; vertical-align: middle; margin-left: 0.5rem\">RUSHER</span>\n",
       "</mark>\n",
       " right end for no gain (tackle by \n",
       "<mark class=\"entity\" style=\"background: #003366; padding: 0.45em 0.6em; margin: 0 0.25em; line-height: 1; border-radius: 0.35em;\">\n",
       "    Brandon Jones\n",
       "    <span style=\"font-size: 0.8em; font-weight: bold; line-height: 1; border-radius: 0.35em; vertical-align: middle; margin-left: 0.5rem\">TACKLER</span>\n",
       "</mark>\n",
       " and \n",
       "<mark class=\"entity\" style=\"background: #003366; padding: 0.45em 0.6em; margin: 0 0.25em; line-height: 1; border-radius: 0.35em;\">\n",
       "    Malik Reed\n",
       "    <span style=\"font-size: 0.8em; font-weight: bold; line-height: 1; border-radius: 0.35em; vertical-align: middle; margin-left: 0.5rem\">TACKLER</span>\n",
       "</mark>\n",
       ")</div></span>"
      ],
      "text/plain": [
       "<IPython.core.display.HTML object>"
      ]
     },
     "metadata": {},
     "output_type": "display_data"
    },
    {
     "data": {
      "text/html": [
       "<span class=\"tex2jax_ignore\"><div class=\"entities\" style=\"line-height: 2.5; direction: ltr\">Two Point Attempt: \n",
       "<mark class=\"entity\" style=\"background: #b0e0e6; padding: 0.45em 0.6em; margin: 0 0.25em; line-height: 1; border-radius: 0.35em;\">\n",
       "    Bryce Young\n",
       "    <span style=\"font-size: 0.8em; font-weight: bold; line-height: 1; border-radius: 0.35em; vertical-align: middle; margin-left: 0.5rem\">PASSER</span>\n",
       "</mark>\n",
       " pass incomplete, sacked by \n",
       "<mark class=\"entity\" style=\"background: #800080; padding: 0.45em 0.6em; margin: 0 0.25em; line-height: 1; border-radius: 0.35em;\">\n",
       "    Baker Mayfield\n",
       "    <span style=\"font-size: 0.8em; font-weight: bold; line-height: 1; border-radius: 0.35em; vertical-align: middle; margin-left: 0.5rem\">SACKER</span>\n",
       "</mark>\n",
       " sacked by. Penalty on \n",
       "<mark class=\"entity\" style=\"background: #ffd700; padding: 0.45em 0.6em; margin: 0 0.25em; line-height: 1; border-radius: 0.35em;\">\n",
       "    Joe Tryon-Shoyinka\n",
       "    <span style=\"font-size: 0.8em; font-weight: bold; line-height: 1; border-radius: 0.35em; vertical-align: middle; margin-left: 0.5rem\">PENALIZER</span>\n",
       "</mark>\n",
       ": Face Mask (15 Yards), 1 yard (accepted) (no play)</div></span>"
      ],
      "text/plain": [
       "<IPython.core.display.HTML object>"
      ]
     },
     "metadata": {},
     "output_type": "display_data"
    },
    {
     "data": {
      "text/html": [
       "<span class=\"tex2jax_ignore\"><div class=\"entities\" style=\"line-height: 2.5; direction: ltr\">\n",
       "<mark class=\"entity\" style=\"background: #ff7373; padding: 0.45em 0.6em; margin: 0 0.25em; line-height: 1; border-radius: 0.35em;\">\n",
       "    Amon-Ra St. Brown\n",
       "    <span style=\"font-size: 0.8em; font-weight: bold; line-height: 1; border-radius: 0.35em; vertical-align: middle; margin-left: 0.5rem\">RUSHER</span>\n",
       "</mark>\n",
       " left end for 6 yards (tackle by \n",
       "<mark class=\"entity\" style=\"background: #003366; padding: 0.45em 0.6em; margin: 0 0.25em; line-height: 1; border-radius: 0.35em;\">\n",
       "    Derwin James\n",
       "    <span style=\"font-size: 0.8em; font-weight: bold; line-height: 1; border-radius: 0.35em; vertical-align: middle; margin-left: 0.5rem\">TACKLER</span>\n",
       "</mark>\n",
       ")</div></span>"
      ],
      "text/plain": [
       "<IPython.core.display.HTML object>"
      ]
     },
     "metadata": {},
     "output_type": "display_data"
    },
    {
     "data": {
      "text/html": [
       "<span class=\"tex2jax_ignore\"><div class=\"entities\" style=\"line-height: 2.5; direction: ltr\">Two Point Attempt: \n",
       "<mark class=\"entity\" style=\"background: #b0e0e6; padding: 0.45em 0.6em; margin: 0 0.25em; line-height: 1; border-radius: 0.35em;\">\n",
       "    Josh Allen\n",
       "    <span style=\"font-size: 0.8em; font-weight: bold; line-height: 1; border-radius: 0.35em; vertical-align: middle; margin-left: 0.5rem\">PASSER</span>\n",
       "</mark>\n",
       " pass incomplete intended for \n",
       "<mark class=\"entity\" style=\"background: #b0e0e6; padding: 0.45em 0.6em; margin: 0 0.25em; line-height: 1; border-radius: 0.35em;\">\n",
       "    Josh Allen\n",
       "    <span style=\"font-size: 0.8em; font-weight: bold; line-height: 1; border-radius: 0.35em; vertical-align: middle; margin-left: 0.5rem\">PASSER</span>\n",
       "</mark>\n",
       " sacked by</div></span>"
      ],
      "text/plain": [
       "<IPython.core.display.HTML object>"
      ]
     },
     "metadata": {},
     "output_type": "display_data"
    },
    {
     "data": {
      "text/html": [
       "<span class=\"tex2jax_ignore\"><div class=\"entities\" style=\"line-height: 2.5; direction: ltr\">\n",
       "<mark class=\"entity\" style=\"background: #b0e0e6; padding: 0.45em 0.6em; margin: 0 0.25em; line-height: 1; border-radius: 0.35em;\">\n",
       "    Aaron Rodgers\n",
       "    <span style=\"font-size: 0.8em; font-weight: bold; line-height: 1; border-radius: 0.35em; vertical-align: middle; margin-left: 0.5rem\">PASSER</span>\n",
       "</mark>\n",
       " pass complete short right to \n",
       "<mark class=\"entity\" style=\"background: #00ff44; padding: 0.45em 0.6em; margin: 0 0.25em; line-height: 1; border-radius: 0.35em;\">\n",
       "    Equanimeous St. Brown\n",
       "    <span style=\"font-size: 0.8em; font-weight: bold; line-height: 1; border-radius: 0.35em; vertical-align: middle; margin-left: 0.5rem\">RECEIVER</span>\n",
       "</mark>\n",
       " for 7 yards (tackle by \n",
       "<mark class=\"entity\" style=\"background: #003366; padding: 0.45em 0.6em; margin: 0 0.25em; line-height: 1; border-radius: 0.35em;\">\n",
       "    Adrian Amos\n",
       "    <span style=\"font-size: 0.8em; font-weight: bold; line-height: 1; border-radius: 0.35em; vertical-align: middle; margin-left: 0.5rem\">TACKLER</span>\n",
       "</mark>\n",
       ")</div></span>"
      ],
      "text/plain": [
       "<IPython.core.display.HTML object>"
      ]
     },
     "metadata": {},
     "output_type": "display_data"
    },
    {
     "data": {
      "text/html": [
       "<span class=\"tex2jax_ignore\"><div class=\"entities\" style=\"line-height: 2.5; direction: ltr\">\n",
       "<mark class=\"entity\" style=\"background: #ff00ff; padding: 0.45em 0.6em; margin: 0 0.25em; line-height: 1; border-radius: 0.35em;\">\n",
       "    Patrick Mahomes\n",
       "    <span style=\"font-size: 0.8em; font-weight: bold; line-height: 1; border-radius: 0.35em; vertical-align: middle; margin-left: 0.5rem\">FUMBLER</span>\n",
       "</mark>\n",
       " aborted snap, recovered by \n",
       "<mark class=\"entity\" style=\"background: #ff1493; padding: 0.45em 0.6em; margin: 0 0.25em; line-height: 1; border-radius: 0.35em;\">\n",
       "    Patrick Mahomes\n",
       "    <span style=\"font-size: 0.8em; font-weight: bold; line-height: 1; border-radius: 0.35em; vertical-align: middle; margin-left: 0.5rem\">FUMBLE_RECOVERER</span>\n",
       "</mark>\n",
       " at SF-6 \n",
       "<mark class=\"entity\" style=\"background: #b0e0e6; padding: 0.45em 0.6em; margin: 0 0.25em; line-height: 1; border-radius: 0.35em;\">\n",
       "    Patrick Mahomes\n",
       "    <span style=\"font-size: 0.8em; font-weight: bold; line-height: 1; border-radius: 0.35em; vertical-align: middle; margin-left: 0.5rem\">PASSER</span>\n",
       "</mark>\n",
       " pass incomplete</div></span>"
      ],
      "text/plain": [
       "<IPython.core.display.HTML object>"
      ]
     },
     "metadata": {},
     "output_type": "display_data"
    },
    {
     "data": {
      "text/html": [
       "<span class=\"tex2jax_ignore\"><div class=\"entities\" style=\"line-height: 2.5; direction: ltr\">\n",
       "<mark class=\"entity\" style=\"background: #d3ffce; padding: 0.45em 0.6em; margin: 0 0.25em; line-height: 1; border-radius: 0.35em;\">\n",
       "    Dan Bailey\n",
       "    <span style=\"font-size: 0.8em; font-weight: bold; line-height: 1; border-radius: 0.35em; vertical-align: middle; margin-left: 0.5rem\">KICKER</span>\n",
       "</mark>\n",
       " yard field goal no good blocked by \n",
       "<mark class=\"entity\" style=\"background: #ffe7a6; padding: 0.45em 0.6em; margin: 0 0.25em; line-height: 1; border-radius: 0.35em;\">\n",
       "    Joshua Kalu\n",
       "    <span style=\"font-size: 0.8em; font-weight: bold; line-height: 1; border-radius: 0.35em; vertical-align: middle; margin-left: 0.5rem\">BLOCKER</span>\n",
       "</mark>\n",
       ", recovered by \n",
       "<mark class=\"entity\" style=\"background: #ff1493; padding: 0.45em 0.6em; margin: 0 0.25em; line-height: 1; border-radius: 0.35em;\">\n",
       "    Tye Smith\n",
       "    <span style=\"font-size: 0.8em; font-weight: bold; line-height: 1; border-radius: 0.35em; vertical-align: middle; margin-left: 0.5rem\">FUMBLE_RECOVERER</span>\n",
       "</mark>\n",
       ". Penalty on \n",
       "<mark class=\"entity\" style=\"background: #ffd700; padding: 0.45em 0.6em; margin: 0 0.25em; line-height: 1; border-radius: 0.35em;\">\n",
       "    Joshua Kalu\n",
       "    <span style=\"font-size: 0.8em; font-weight: bold; line-height: 1; border-radius: 0.35em; vertical-align: middle; margin-left: 0.5rem\">PENALIZER</span>\n",
       "</mark>\n",
       ": Defensive Offside, 5 yards (no play)</div></span>"
      ],
      "text/plain": [
       "<IPython.core.display.HTML object>"
      ]
     },
     "metadata": {},
     "output_type": "display_data"
    },
    {
     "data": {
      "text/html": [
       "<span class=\"tex2jax_ignore\"><div class=\"entities\" style=\"line-height: 2.5; direction: ltr\">, recovered by \n",
       "<mark class=\"entity\" style=\"background: #ff1493; padding: 0.45em 0.6em; margin: 0 0.25em; line-height: 1; border-radius: 0.35em;\">\n",
       "    Jalen Hurts\n",
       "    <span style=\"font-size: 0.8em; font-weight: bold; line-height: 1; border-radius: 0.35em; vertical-align: middle; margin-left: 0.5rem\">FUMBLE_RECOVERER</span>\n",
       "</mark>\n",
       " at PHI-20 \n",
       "<mark class=\"entity\" style=\"background: #ff7373; padding: 0.45em 0.6em; margin: 0 0.25em; line-height: 1; border-radius: 0.35em;\">\n",
       "    Jalen Hurts\n",
       "    <span style=\"font-size: 0.8em; font-weight: bold; line-height: 1; border-radius: 0.35em; vertical-align: middle; margin-left: 0.5rem\">RUSHER</span>\n",
       "</mark>\n",
       " for no gain. Penalty on \n",
       "<mark class=\"entity\" style=\"background: #ffd700; padding: 0.45em 0.6em; margin: 0 0.25em; line-height: 1; border-radius: 0.35em;\">\n",
       "    Deatrich Wise\n",
       "    <span style=\"font-size: 0.8em; font-weight: bold; line-height: 1; border-radius: 0.35em; vertical-align: middle; margin-left: 0.5rem\">PENALIZER</span>\n",
       "</mark>\n",
       ": Defensive Offside, 5 yards (accepted) (no play)</div></span>"
      ],
      "text/plain": [
       "<IPython.core.display.HTML object>"
      ]
     },
     "metadata": {},
     "output_type": "display_data"
    },
    {
     "data": {
      "text/html": [
       "<span class=\"tex2jax_ignore\"><div class=\"entities\" style=\"line-height: 2.5; direction: ltr\">\n",
       "<mark class=\"entity\" style=\"background: #ff7373; padding: 0.45em 0.6em; margin: 0 0.25em; line-height: 1; border-radius: 0.35em;\">\n",
       "    Robert Turbin\n",
       "    <span style=\"font-size: 0.8em; font-weight: bold; line-height: 1; border-radius: 0.35em; vertical-align: middle; margin-left: 0.5rem\">RUSHER</span>\n",
       "</mark>\n",
       " up the middle for no gain (tackle by \n",
       "<mark class=\"entity\" style=\"background: #003366; padding: 0.45em 0.6em; margin: 0 0.25em; line-height: 1; border-radius: 0.35em;\">\n",
       "    Alec Ogletree\n",
       "    <span style=\"font-size: 0.8em; font-weight: bold; line-height: 1; border-radius: 0.35em; vertical-align: middle; margin-left: 0.5rem\">TACKLER</span>\n",
       "</mark>\n",
       "). Penalty on \n",
       "<mark class=\"entity\" style=\"background: #ffd700; padding: 0.45em 0.6em; margin: 0 0.25em; line-height: 1; border-radius: 0.35em;\">\n",
       "    Alec Ogletree\n",
       "    <span style=\"font-size: 0.8em; font-weight: bold; line-height: 1; border-radius: 0.35em; vertical-align: middle; margin-left: 0.5rem\">PENALIZER</span>\n",
       "</mark>\n",
       ": Unsportsmanlike Conduct, 6 yards, Penalty on \n",
       "<mark class=\"entity\" style=\"background: #ffd700; padding: 0.45em 0.6em; margin: 0 0.25em; line-height: 1; border-radius: 0.35em;\">\n",
       "    Kendall Langford\n",
       "    <span style=\"font-size: 0.8em; font-weight: bold; line-height: 1; border-radius: 0.35em; vertical-align: middle; margin-left: 0.5rem\">PENALIZER</span>\n",
       "</mark>\n",
       ": Disqualification, 3 yards, Penalty on \n",
       "<mark class=\"entity\" style=\"background: #ffd700; padding: 0.45em 0.6em; margin: 0 0.25em; line-height: 1; border-radius: 0.35em;\">\n",
       "    Kendall Langford\n",
       "    <span style=\"font-size: 0.8em; font-weight: bold; line-height: 1; border-radius: 0.35em; vertical-align: middle; margin-left: 0.5rem\">PENALIZER</span>\n",
       "</mark>\n",
       ": Unsportsmanlike Conduct, 1 yards</div></span>"
      ],
      "text/plain": [
       "<IPython.core.display.HTML object>"
      ]
     },
     "metadata": {},
     "output_type": "display_data"
    },
    {
     "data": {
      "text/html": [
       "<span class=\"tex2jax_ignore\"><div class=\"entities\" style=\"line-height: 2.5; direction: ltr\">\n",
       "<mark class=\"entity\" style=\"background: #b0e0e6; padding: 0.45em 0.6em; margin: 0 0.25em; line-height: 1; border-radius: 0.35em;\">\n",
       "    Eli Manning\n",
       "    <span style=\"font-size: 0.8em; font-weight: bold; line-height: 1; border-radius: 0.35em; vertical-align: middle; margin-left: 0.5rem\">PASSER</span>\n",
       "</mark>\n",
       " pass complete short right to \n",
       "<mark class=\"entity\" style=\"background: #00ff44; padding: 0.45em 0.6em; margin: 0 0.25em; line-height: 1; border-radius: 0.35em;\">\n",
       "    Odell Beckham\n",
       "    <span style=\"font-size: 0.8em; font-weight: bold; line-height: 1; border-radius: 0.35em; vertical-align: middle; margin-left: 0.5rem\">RECEIVER</span>\n",
       "</mark>\n",
       " for 6 yards (tackle by \n",
       "<mark class=\"entity\" style=\"background: #003366; padding: 0.45em 0.6em; margin: 0 0.25em; line-height: 1; border-radius: 0.35em;\">\n",
       "    Alec Ogletree\n",
       "    <span style=\"font-size: 0.8em; font-weight: bold; line-height: 1; border-radius: 0.35em; vertical-align: middle; margin-left: 0.5rem\">TACKLER</span>\n",
       "</mark>\n",
       "). Penalty on \n",
       "<mark class=\"entity\" style=\"background: #ffd700; padding: 0.45em 0.6em; margin: 0 0.25em; line-height: 1; border-radius: 0.35em;\">\n",
       "    Alec Ogletree\n",
       "    <span style=\"font-size: 0.8em; font-weight: bold; line-height: 1; border-radius: 0.35em; vertical-align: middle; margin-left: 0.5rem\">PENALIZER</span>\n",
       "</mark>\n",
       ": Unsportsmanlike Conduct (Offsetting), Penalty on NYG: Unnecessary Roughness (Offsetting), Penalty on NYG: Unnecessary Roughness, 13 yards (Offsetting), Penalty on \n",
       "<mark class=\"entity\" style=\"background: #ffd700; padding: 0.45em 0.6em; margin: 0 0.25em; line-height: 1; border-radius: 0.35em;\">\n",
       "    Preston Parker\n",
       "    <span style=\"font-size: 0.8em; font-weight: bold; line-height: 1; border-radius: 0.35em; vertical-align: middle; margin-left: 0.5rem\">PENALIZER</span>\n",
       "</mark>\n",
       ": Disqualification (Offsetting), Penalty on \n",
       "<mark class=\"entity\" style=\"background: #ffd700; padding: 0.45em 0.6em; margin: 0 0.25em; line-height: 1; border-radius: 0.35em;\">\n",
       "    Damontre Moore\n",
       "    <span style=\"font-size: 0.8em; font-weight: bold; line-height: 1; border-radius: 0.35em; vertical-align: middle; margin-left: 0.5rem\">PENALIZER</span>\n",
       "</mark>\n",
       ": Disqualification (Offsetting), Penalty on \n",
       "<mark class=\"entity\" style=\"background: #ffd700; padding: 0.45em 0.6em; margin: 0 0.25em; line-height: 1; border-radius: 0.35em;\">\n",
       "    William Hayes\n",
       "    <span style=\"font-size: 0.8em; font-weight: bold; line-height: 1; border-radius: 0.35em; vertical-align: middle; margin-left: 0.5rem\">PENALIZER</span>\n",
       "</mark>\n",
       ": Disqualification (Offsetting)</div></span>"
      ],
      "text/plain": [
       "<IPython.core.display.HTML object>"
      ]
     },
     "metadata": {},
     "output_type": "display_data"
    },
    {
     "data": {
      "text/html": [
       "<span class=\"tex2jax_ignore\"><div class=\"entities\" style=\"line-height: 2.5; direction: ltr\">Two Point Attempt: \n",
       "<mark class=\"entity\" style=\"background: #b0e0e6; padding: 0.45em 0.6em; margin: 0 0.25em; line-height: 1; border-radius: 0.35em;\">\n",
       "    Jared Goff\n",
       "    <span style=\"font-size: 0.8em; font-weight: bold; line-height: 1; border-radius: 0.35em; vertical-align: middle; margin-left: 0.5rem\">PASSER</span>\n",
       "</mark>\n",
       " pass complete to to \n",
       "<mark class=\"entity\" style=\"background: #00ff44; padding: 0.45em 0.6em; margin: 0 0.25em; line-height: 1; border-radius: 0.35em;\">\n",
       "    Quintez Cephus\n",
       "    <span style=\"font-size: 0.8em; font-weight: bold; line-height: 1; border-radius: 0.35em; vertical-align: middle; margin-left: 0.5rem\">RECEIVER</span>\n",
       "</mark>\n",
       " for no gain</div></span>"
      ],
      "text/plain": [
       "<IPython.core.display.HTML object>"
      ]
     },
     "metadata": {},
     "output_type": "display_data"
    },
    {
     "data": {
      "text/html": [
       "<span class=\"tex2jax_ignore\"><div class=\"entities\" style=\"line-height: 2.5; direction: ltr\">\n",
       "<mark class=\"entity\" style=\"background: #d3ffce; padding: 0.45em 0.6em; margin: 0 0.25em; line-height: 1; border-radius: 0.35em;\">\n",
       "    Ka'imi Fairbairn\n",
       "    <span style=\"font-size: 0.8em; font-weight: bold; line-height: 1; border-radius: 0.35em; vertical-align: middle; margin-left: 0.5rem\">KICKER</span>\n",
       "</mark>\n",
       " kicks off 66 yards, returned by \n",
       "<mark class=\"entity\" style=\"background: #faebd7; padding: 0.45em 0.6em; margin: 0 0.25em; line-height: 1; border-radius: 0.35em;\">\n",
       "    Mecole Hardman\n",
       "    <span style=\"font-size: 0.8em; font-weight: bold; line-height: 1; border-radius: 0.35em; vertical-align: middle; margin-left: 0.5rem\">RETURNER</span>\n",
       "</mark>\n",
       " for 19 yards (tackle by \n",
       "<mark class=\"entity\" style=\"background: #003366; padding: 0.45em 0.6em; margin: 0 0.25em; line-height: 1; border-radius: 0.35em;\">\n",
       "    Xavier Crawford\n",
       "    <span style=\"font-size: 0.8em; font-weight: bold; line-height: 1; border-radius: 0.35em; vertical-align: middle; margin-left: 0.5rem\">TACKLER</span>\n",
       "</mark>\n",
       " and \n",
       "<mark class=\"entity\" style=\"background: #003366; padding: 0.45em 0.6em; margin: 0 0.25em; line-height: 1; border-radius: 0.35em;\">\n",
       "    Cullen Gillaspia\n",
       "    <span style=\"font-size: 0.8em; font-weight: bold; line-height: 1; border-radius: 0.35em; vertical-align: middle; margin-left: 0.5rem\">TACKLER</span>\n",
       "</mark>\n",
       "). Penalty on \n",
       "<mark class=\"entity\" style=\"background: #ffd700; padding: 0.45em 0.6em; margin: 0 0.25em; line-height: 1; border-radius: 0.35em;\">\n",
       "    Anthony Sherman\n",
       "    <span style=\"font-size: 0.8em; font-weight: bold; line-height: 1; border-radius: 0.35em; vertical-align: middle; margin-left: 0.5rem\">PENALIZER</span>\n",
       "</mark>\n",
       ": Illegal Double-Team Block, 9 yards</div></span>"
      ],
      "text/plain": [
       "<IPython.core.display.HTML object>"
      ]
     },
     "metadata": {},
     "output_type": "display_data"
    },
    {
     "data": {
      "text/html": [
       "<span class=\"tex2jax_ignore\"><div class=\"entities\" style=\"line-height: 2.5; direction: ltr\">\n",
       "<mark class=\"entity\" style=\"background: #b0e0e6; padding: 0.45em 0.6em; margin: 0 0.25em; line-height: 1; border-radius: 0.35em;\">\n",
       "    Dorian Thompson-Robinson\n",
       "    <span style=\"font-size: 0.8em; font-weight: bold; line-height: 1; border-radius: 0.35em; vertical-align: middle; margin-left: 0.5rem\">PASSER</span>\n",
       "</mark>\n",
       " pass deep left (defended by \n",
       "<mark class=\"entity\" style=\"background: #20b2aa; padding: 0.45em 0.6em; margin: 0 0.25em; line-height: 1; border-radius: 0.35em;\">\n",
       "    Arthur Maulet\n",
       "    <span style=\"font-size: 0.8em; font-weight: bold; line-height: 1; border-radius: 0.35em; vertical-align: middle; margin-left: 0.5rem\">DEFENDER</span>\n",
       "</mark>\n",
       ") intended for \n",
       "<mark class=\"entity\" style=\"background: #00ff44; padding: 0.45em 0.6em; margin: 0 0.25em; line-height: 1; border-radius: 0.35em;\">\n",
       "    Amari Cooper\n",
       "    <span style=\"font-size: 0.8em; font-weight: bold; line-height: 1; border-radius: 0.35em; vertical-align: middle; margin-left: 0.5rem\">RECEIVER</span>\n",
       "</mark>\n",
       " is intercepted by \n",
       "<mark class=\"entity\" style=\"background: #66cdaa; padding: 0.45em 0.6em; margin: 0 0.25em; line-height: 1; border-radius: 0.35em;\">\n",
       "    Brandon Stephens\n",
       "    <span style=\"font-size: 0.8em; font-weight: bold; line-height: 1; border-radius: 0.35em; vertical-align: middle; margin-left: 0.5rem\">INTERCEPTOR</span>\n",
       "</mark>\n",
       " at BAL-38 and returned for 52 yards (tackle by \n",
       "<mark class=\"entity\" style=\"background: #003366; padding: 0.45em 0.6em; margin: 0 0.25em; line-height: 1; border-radius: 0.35em;\">\n",
       "    Dorian Thompson-Robinson\n",
       "    <span style=\"font-size: 0.8em; font-weight: bold; line-height: 1; border-radius: 0.35em; vertical-align: middle; margin-left: 0.5rem\">TACKLER</span>\n",
       "</mark>\n",
       ")</div></span>"
      ],
      "text/plain": [
       "<IPython.core.display.HTML object>"
      ]
     },
     "metadata": {},
     "output_type": "display_data"
    },
    {
     "data": {
      "text/html": [
       "<span class=\"tex2jax_ignore\"><div class=\"entities\" style=\"line-height: 2.5; direction: ltr\">\n",
       "<mark class=\"entity\" style=\"background: #ff7373; padding: 0.45em 0.6em; margin: 0 0.25em; line-height: 1; border-radius: 0.35em;\">\n",
       "    Wan'Dale Robinson\n",
       "    <span style=\"font-size: 0.8em; font-weight: bold; line-height: 1; border-radius: 0.35em; vertical-align: middle; margin-left: 0.5rem\">RUSHER</span>\n",
       "</mark>\n",
       " right end for -5 yards (tackle by \n",
       "<mark class=\"entity\" style=\"background: #003366; padding: 0.45em 0.6em; margin: 0 0.25em; line-height: 1; border-radius: 0.35em;\">\n",
       "    Kurt Hinish\n",
       "    <span style=\"font-size: 0.8em; font-weight: bold; line-height: 1; border-radius: 0.35em; vertical-align: middle; margin-left: 0.5rem\">TACKLER</span>\n",
       "</mark>\n",
       " and \n",
       "<mark class=\"entity\" style=\"background: #003366; padding: 0.45em 0.6em; margin: 0 0.25em; line-height: 1; border-radius: 0.35em;\">\n",
       "    Jalen Pitre\n",
       "    <span style=\"font-size: 0.8em; font-weight: bold; line-height: 1; border-radius: 0.35em; vertical-align: middle; margin-left: 0.5rem\">TACKLER</span>\n",
       "</mark>\n",
       ")</div></span>"
      ],
      "text/plain": [
       "<IPython.core.display.HTML object>"
      ]
     },
     "metadata": {},
     "output_type": "display_data"
    }
   ],
   "source": [
    "nlp_ner = spacy.load(\"models/model-best\")\n",
    "\n",
    "test_lines = [\n",
    "    'Trevor Lawrence pass complete short right to Luke Farrell for no gain (tackle by Micah Hyde). Penalty on Anton Harrison: Ineligible Downfield Pass, 5 yards (accepted) (no play)',\n",
    "    'Nick Martin aborted snap, recovered by Deshaun Watson at LAC-21, touchdown Deshaun Watson pass complete deep right to Darren Fells for 16 yards, touchdown',\n",
    "    'Marcus Mariota left end for 8 yards (tackle by Adam Jones). Penalty on Vontaze Burfict: Disqualification',\n",
    "    'Kyler Murray right end for 16 yards (tackle by Donovan Wilson). Penalty on Tyrone Crawford: Taunting',\n",
    "    'Ben Roethlisberger kneels for -2 yards',\n",
    "    'Robert Griffin III pass complete short right to Pierre Garcon for 9 yards (tackle by Curtis Lofton and Corey White)',\n",
    "    'Chandler Catanzaro 39 yard field goal no good, blocked by Bobby Wagner, recovered by Bobby Wagner',\n",
    "    'Clyde Edwards-Helaire right end for no gain (tackle by Brandon Jones and Malik Reed)',\n",
    "    'Two Point Attempt: Bryce Young pass incomplete, sacked by Baker Mayfield sacked by. Penalty on Joe Tryon-Shoyinka: Face Mask (15 Yards), 1 yard (accepted) (no play)',\n",
    "    'Amon-Ra St. Brown left end for 6 yards (tackle by Derwin James)',\n",
    "    'Two Point Attempt: Josh Allen pass incomplete intended for Josh Allen sacked by',\n",
    "    'Aaron Rodgers pass complete short right to Equanimeous St. Brown for 7 yards (tackle by Adrian Amos)',\n",
    "    'Patrick Mahomes aborted snap, recovered by Patrick Mahomes at SF-6 Patrick Mahomes pass incomplete',\n",
    "    \"Dan Bailey yard field goal no good blocked by Joshua Kalu, recovered by Tye Smith. Penalty on Joshua Kalu: Defensive Offside, 5 yards (no play)\",\n",
    "    \", recovered by Jalen Hurts at PHI-20 Jalen Hurts for no gain. Penalty on Deatrich Wise: Defensive Offside, 5 yards (accepted) (no play)\",\n",
    "    \"Robert Turbin up the middle for no gain (tackle by Alec Ogletree). Penalty on Alec Ogletree: Unsportsmanlike Conduct, 6 yards, Penalty on Kendall Langford: Disqualification, 3 yards, Penalty on Kendall Langford: Unsportsmanlike Conduct, 1 yards\",\n",
    "    \"Eli Manning pass complete short right to Odell Beckham for 6 yards (tackle by Alec Ogletree). Penalty on Alec Ogletree: Unsportsmanlike Conduct (Offsetting), Penalty on NYG: Unnecessary Roughness (Offsetting), Penalty on NYG: Unnecessary Roughness, 13 yards (Offsetting), Penalty on Preston Parker: Disqualification (Offsetting), Penalty on Damontre Moore: Disqualification (Offsetting), Penalty on William Hayes: Disqualification (Offsetting)\",\n",
    "    \"Two Point Attempt: Jared Goff pass complete to to Quintez Cephus for no gain\",\n",
    "    \"Ka'imi Fairbairn kicks off 66 yards, returned by Mecole Hardman for 19 yards (tackle by Xavier Crawford and Cullen Gillaspia). Penalty on Anthony Sherman: Illegal Double-Team Block, 9 yards\",\n",
    "    \"Dorian Thompson-Robinson pass deep left (defended by Arthur Maulet) intended for Amari Cooper is intercepted by Brandon Stephens at BAL-38 and returned for 52 yards (tackle by Dorian Thompson-Robinson)\",\n",
    "    \"Wan'Dale Robinson right end for -5 yards (tackle by Kurt Hinish and Jalen Pitre)\"\n",
    "]\n",
    "\n",
    "colors = {\n",
    "    'PASSER': '#b0e0e6', 'RECEIVER': '#00ff44', 'RUSHER': '#ff7373', \n",
    "    'TACKLER': '#003366','PENALIZER': '#ffd700', 'FUMBLE_RECOVERER': '#ff1493', \n",
    "    'KICKER': '#d3ffce', 'PUNTER': '#f0f8ff', 'RETURNER': '#faebd7',\n",
    "    'DEFENDER': '#20b2aa', 'INTERCEPTOR': '#66cdaa', 'SACKER': '#800080',\n",
    "    'FUMBLER': '#ff00ff', 'OTHER': '#f5f5f5', 'TEAM_NAME': '#008000',\n",
    "    'FUMBLE_FORCER': '#ee00ee', 'LATERALER': '#ffff00', 'BLOCKER': '#ffe7a6'\n",
    "}\n",
    "options = {\"colors\": colors}\n",
    "\n",
    "for line in test_lines:\n",
    "    doc = nlp_ner(line)\n",
    "    displacy.render(doc, style=\"ent\", options=options, jupyter=True)"
   ]
  }
 ],
 "metadata": {
  "kernelspec": {
   "display_name": "Python 3",
   "language": "python",
   "name": "python3"
  },
  "language_info": {
   "codemirror_mode": {
    "name": "ipython",
    "version": 3
   },
   "file_extension": ".py",
   "mimetype": "text/x-python",
   "name": "python",
   "nbconvert_exporter": "python",
   "pygments_lexer": "ipython3",
   "version": "3.9.2"
  }
 },
 "nbformat": 4,
 "nbformat_minor": 2
}
